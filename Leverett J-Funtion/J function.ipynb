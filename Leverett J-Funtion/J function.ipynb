{
 "cells": [
  {
   "cell_type": "markdown",
   "id": "cbb6fd5a-2c6b-4216-9425-51222a2d268a",
   "metadata": {},
   "source": [
    "**Application of Leverett J-Function**"
   ]
  },
  {
   "cell_type": "code",
   "execution_count": 31,
   "id": "b157cc66-2e44-4046-964e-166f80c94cf1",
   "metadata": {},
   "outputs": [
    {
     "name": "stdout",
     "output_type": "stream",
     "text": [
      "   Saturation  pressure_lab\n",
      "0         1.0          0.50\n",
      "1         0.9          0.55\n",
      "2         0.8          0.60\n",
      "3         0.7          0.65\n",
      "4         0.6          0.70\n",
      "5         0.5          0.80\n",
      "6         0.4          0.98\n",
      "7         0.3          1.20\n",
      "8         0.2          1.40\n",
      "9         0.1          1.60\n"
     ]
    }
   ],
   "source": [
    "import pandas as pd\n",
    "import numpy as np\n",
    "import matplotlib.pyplot as plt\n",
    "import math as math\n",
    "df=pd.read_excel('pre.xlsx',) #reading the data from excel\n",
    "print(df)"
   ]
  },
  {
   "cell_type": "code",
   "execution_count": 1,
   "id": "3a1628d4-2ef2-423c-adcb-c09221c477ee",
   "metadata": {},
   "outputs": [],
   "source": [
    "sigma=50 #value of interfacial tension (in dynes/cm)\n",
    "k_lab=80 #permeability in laboratory tests (md)\n",
    "porosity_lab=0.16 #porosity in laboratory tests\n",
    "\n",
    "#Leverett J-Function (J)\n",
    "#J(Sw)= 0.2145x(Pc/sigma)xsqrt(K/phi)\n",
    "#Sw=saturation of water\n",
    "#Pc=capillary pressure (psi)\n",
    "#K=permeability (md)\n",
    "#phi=porosity (decimals)"
   ]
  },
  {
   "cell_type": "code",
   "execution_count": 38,
   "id": "c25c007c-fa91-4269-a03e-c0f2f3d01f63",
   "metadata": {},
   "outputs": [
    {
     "name": "stdout",
     "output_type": "stream",
     "text": [
      "0    0.048400\n",
      "1    0.053240\n",
      "2    0.058080\n",
      "3    0.062920\n",
      "4    0.067760\n",
      "5    0.077440\n",
      "6    0.094863\n",
      "7    0.116159\n",
      "8    0.135519\n",
      "9    0.154879\n",
      "Name: pressure_lab, dtype: float64\n"
     ]
    }
   ],
   "source": [
    "s=df['Saturation'] \n",
    "p_lab=df['pressure_lab']\n",
    "ratio=math.sqrt(k_lab/porosity_lab)\n",
    "#calculate the value of J function for lab results\n",
    "J=0.21645*(p_lab/sigma)*ratio\n",
    "print(J)"
   ]
  },
  {
   "cell_type": "code",
   "execution_count": 42,
   "id": "df16d29c-0f4b-4182-b95c-031dcc38edb6",
   "metadata": {},
   "outputs": [
    {
     "name": "stdout",
     "output_type": "stream",
     "text": [
      "0    0.444878\n",
      "1    0.489366\n",
      "2    0.533854\n",
      "3    0.578342\n",
      "4    0.622830\n",
      "5    0.711805\n",
      "6    0.871961\n",
      "7    1.067708\n",
      "8    1.245659\n",
      "9    1.423610\n",
      "Name: pressure_lab, dtype: float64\n"
     ]
    }
   ],
   "source": [
    "new_k=120 #actual permeability observed (md)\n",
    "new_porosity=0.19 #actual porosity observed\n",
    "new_ratio=math.sqrt(new_k/new_porosity)\n",
    "#calculate capillary pressure (psi) for actual porosity and permeability\n",
    "new_pc=(J*sigma)/(0.21645*new_ratio)\n",
    "print(new_pc)"
   ]
  },
  {
   "cell_type": "code",
   "execution_count": 39,
   "id": "5b167f4f-5cb0-41ac-86fc-41c1274629c4",
   "metadata": {},
   "outputs": [
    {
     "data": {
      "text/plain": [
       "<function matplotlib.pyplot.show(close=None, block=None)>"
      ]
     },
     "execution_count": 39,
     "metadata": {},
     "output_type": "execute_result"
    },
    {
     "data": {
      "image/png": "[encoded data removed]",
      "text/plain": [
       "<Figure size 432x288 with 1 Axes>"
      ]
     },
     "metadata": {
      "needs_background": "light"
     },
     "output_type": "display_data"
    }
   ],
   "source": [
    "#making the plot between saturation and capillary pressure\n",
    "plt.plot(s,p_lab, label='Lab',color='red',marker='o')\n",
    "plt.plot(s,new_pc, label='Actual',color='blue',marker='*')\n",
    "plt.xlabel('Saturation of water (Sw)')\n",
    "plt.ylabel('Capillary pressure (Pc)')\n",
    "plt.title('Sw vs Pc')\n",
    "plt.legend()\n",
    "plt.show"
   ]
  },
  {
   "cell_type": "code",
   "execution_count": 2,
   "id": "131f21af-2287-43d3-b556-ff1061d90a53",
   "metadata": {},
   "outputs": [],
   "source": [
    "#Application of Leverett J function"
   ]
  }
 ],
 "metadata": {
  "kernelspec": {
   "display_name": "Python 3",
   "language": "python",
   "name": "python3"
  },
  "language_info": {
   "codemirror_mode": {
    "name": "ipython",
    "version": 3
   },
   "file_extension": ".py",
   "mimetype": "text/x-python",
   "name": "python",
   "nbconvert_exporter": "python",
   "pygments_lexer": "ipython3",
   "version": "3.8.8"
  }
 },
 "nbformat": 4,
 "nbformat_minor": 5
}
